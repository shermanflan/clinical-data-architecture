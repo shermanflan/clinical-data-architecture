{
 "cells": [
  {
   "cell_type": "markdown",
   "id": "77e90352",
   "metadata": {},
   "source": [
    "# PySpark & Parquet\n",
    "Basic examples manipulating parquet tables\n",
    "\n",
    "Reference:\n",
    "- [Spark SQL Reference](http://spark.apache.org/docs/latest/sql-ref-syntax.html)\n",
    "- [PySpark API](http://spark.apache.org/docs/latest/api/python/reference/pyspark.sql.html)"
   ]
  },
  {
   "cell_type": "code",
   "execution_count": null,
   "id": "a4c803ae",
   "metadata": {},
   "outputs": [],
   "source": [
    "from pyspark.sql import SparkSession\n",
    "from pyspark.sql.functions import col, expr"
   ]
  },
  {
   "cell_type": "code",
   "execution_count": null,
   "id": "cc5e9938",
   "metadata": {},
   "outputs": [],
   "source": [
    "%%bash\n",
    "ls -al ${APP_HOME}/"
   ]
  },
  {
   "cell_type": "markdown",
   "id": "10d2f6bc",
   "metadata": {},
   "source": [
    "## Create Spark session"
   ]
  },
  {
   "cell_type": "code",
   "execution_count": null,
   "id": "aa758244",
   "metadata": {},
   "outputs": [],
   "source": [
    "spark = (\n",
    "    SparkSession\n",
    "    .builder\n",
    "    .appName(\"example-2-parquet\")\n",
    "    .master(\"local[*]\")\n",
    "    .getOrCreate()\n",
    ")"
   ]
  },
  {
   "cell_type": "markdown",
   "id": "9cb55009",
   "metadata": {},
   "source": [
    "## Read Parquet"
   ]
  },
  {
   "cell_type": "markdown",
   "id": "d572f58d",
   "metadata": {},
   "source": [
    "### Display Schema"
   ]
  },
  {
   "cell_type": "code",
   "execution_count": null,
   "id": "42d2c04f",
   "metadata": {},
   "outputs": [],
   "source": [
    "(\n",
    "    spark\n",
    "    .read\n",
    "    .format('parquet')\n",
    "    .load(\"/opt/spark/jupyter-lib/output_data/stage/vitals/parquet/2021/10/24\")  # As DataFrame\n",
    "    .dtypes\n",
    ")"
   ]
  },
  {
   "cell_type": "markdown",
   "id": "88b2ac40",
   "metadata": {},
   "source": [
    "### Select specific attributes"
   ]
  },
  {
   "cell_type": "code",
   "execution_count": null,
   "id": "0ad532c9",
   "metadata": {},
   "outputs": [],
   "source": [
    "(\n",
    "    spark\n",
    "    .read\n",
    "    .format('parquet')\n",
    "    .load(\"/opt/spark/jupyter-lib/output_data/stage/vitals/parquet/2021/10/24\")  # As DataFrame\n",
    "    .select(\n",
    "        col(\"source_ale_prac_id\").alias(\"practice\"),\n",
    "        \"patient_id\",\n",
    "        \"service_date\",\n",
    "        \"service_time\",\n",
    "        \"bp_systolic\",\n",
    "        \"bp_diastolic\",\n",
    "        \"source\"\n",
    "    )\n",
    "    .filter(\"service_date IS NOT NULL AND service_time IS NOT NULL\")\n",
    "    .filter(col(\"bp_systolic\").isNotNull() & col(\"bp_diastolic\").isNotNull())\n",
    "    .show(n=7)\n",
    ")"
   ]
  }
 ],
 "metadata": {
  "kernelspec": {
   "display_name": "Python 3 (ipykernel)",
   "language": "python",
   "name": "python3"
  },
  "language_info": {
   "codemirror_mode": {
    "name": "ipython",
    "version": 3
   },
   "file_extension": ".py",
   "mimetype": "text/x-python",
   "name": "python",
   "nbconvert_exporter": "python",
   "pygments_lexer": "ipython3",
   "version": "3.7.3"
  }
 },
 "nbformat": 4,
 "nbformat_minor": 5
}
