{
 "cells": [
  {
   "cell_type": "markdown",
   "id": "77e90352",
   "metadata": {},
   "source": [
    "# PySpark & Delta Lake\n",
    "Basic examples manipulating Delta tables\n",
    "\n",
    "Reference:\n",
    "- [Delta Lake Docs](https://docs.delta.io/latest/index.html)\n",
    "- [Delta Lake API](https://docs.delta.io/latest/api/python/index.html)"
   ]
  },
  {
   "cell_type": "code",
   "execution_count": null,
   "id": "a4c803ae",
   "metadata": {},
   "outputs": [],
   "source": [
    "from pyspark.sql import SparkSession\n",
    "from pyspark.sql.functions import col, expr\n",
    "from delta.tables import DeltaTable"
   ]
  },
  {
   "cell_type": "code",
   "execution_count": null,
   "id": "cc5e9938",
   "metadata": {},
   "outputs": [],
   "source": [
    "%%bash\n",
    "ls -al ${APP_HOME}/"
   ]
  },
  {
   "cell_type": "markdown",
   "id": "10d2f6bc",
   "metadata": {},
   "source": [
    "## Create Spark session with Delta Lake bindings"
   ]
  },
  {
   "cell_type": "code",
   "execution_count": null,
   "id": "aa758244",
   "metadata": {},
   "outputs": [],
   "source": [
    "spark = (\n",
    "    SparkSession\n",
    "    .builder\n",
    "    .appName(\"example-1-delta\")\n",
    "    .master(\"local[*]\")\n",
    "    .config(\"spark.jars.packages\", \"io.delta:delta-core_2.12:1.0.0\")\n",
    "    .config(\"spark.sql.extensions\", \"io.delta.sql.DeltaSparkSessionExtension\")\n",
    "    .config(\"spark.sql.catalog.spark_catalog\", \"org.apache.spark.sql.delta.catalog.DeltaCatalog\")\n",
    "    .getOrCreate()\n",
    ")"
   ]
  },
  {
   "cell_type": "markdown",
   "id": "9cb55009",
   "metadata": {},
   "source": [
    "## Read Delta table"
   ]
  },
  {
   "cell_type": "code",
   "execution_count": null,
   "id": "0ad532c9",
   "metadata": {},
   "outputs": [],
   "source": [
    "(\n",
    "    spark\n",
    "    .read\n",
    "    .format('delta')\n",
    "    .load(\"/opt/spark/jupyter-lib/output_data/public/vitals/delta\")  # As DataFrame\n",
    "    .select(\n",
    "        col(\"source_ale_prac_id\").alias(\"practice\"),\n",
    "        \"patient_id\",\n",
    "        \"name\",\n",
    "        \"value\",\n",
    "        \"observation_date\"\n",
    "    )\n",
    "    .show(n=7)\n",
    ")"
   ]
  },
  {
   "cell_type": "markdown",
   "id": "dc6b1f39",
   "metadata": {},
   "source": [
    "## Inspect Delta version history"
   ]
  },
  {
   "cell_type": "code",
   "execution_count": null,
   "id": "704c9fa9",
   "metadata": {},
   "outputs": [],
   "source": [
    "    (\n",
    "        DeltaTable\n",
    "        .forPath(spark, '/opt/spark/jupyter-lib/output_data/public/vitals/delta')\n",
    "        .history(21)\n",
    "        .withColumn(\"row_count\", expr(\"operationMetrics.numOutputRows\"))\n",
    "        .select(\n",
    "            \"version\",\n",
    "            \"timestamp\",\n",
    "            \"userName\",\n",
    "            \"operation\",\n",
    "            \"job\",\n",
    "            # \"operationParameters\",\n",
    "            # \"operationMetrics\",\n",
    "            \"row_count\"\n",
    "        )\n",
    "        .show(truncate=False)\n",
    "    )\n"
   ]
  }
 ],
 "metadata": {
  "kernelspec": {
   "display_name": "Python 3 (ipykernel)",
   "language": "python",
   "name": "python3"
  },
  "language_info": {
   "codemirror_mode": {
    "name": "ipython",
    "version": 3
   },
   "file_extension": ".py",
   "mimetype": "text/x-python",
   "name": "python",
   "nbconvert_exporter": "python",
   "pygments_lexer": "ipython3",
   "version": "3.7.3"
  }
 },
 "nbformat": 4,
 "nbformat_minor": 5
}
